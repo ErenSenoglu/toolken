{
 "cells": [
  {
   "cell_type": "code",
   "execution_count": 41,
   "id": "0892b65d",
   "metadata": {},
   "outputs": [],
   "source": [
    "import json\n",
    "from tqdm import tqdm\n",
    "from transformers import AutoTokenizer  "
   ]
  },
  {
   "cell_type": "code",
   "execution_count": 42,
   "id": "c8a8c59a",
   "metadata": {},
   "outputs": [],
   "source": [
    "MODEL_NAME = \"meta-llama/Llama-3.2-3B-Instruct\" \n",
    "INPUT_PATH = \"final_results.json\"\n",
    "OUTPUT_PATH = \"final_results_with_token_index.json\"\n",
    "LOG_EVERY_N = int(1e3) "
   ]
  },
  {
   "cell_type": "code",
   "execution_count": 43,
   "id": "5ab4857e",
   "metadata": {},
   "outputs": [
    {
     "name": "stdout",
     "output_type": "stream",
     "text": [
      "Loaded tokenizer: meta-llama/Llama-3.2-3B-Instruct  (vocab = 128256)\n"
     ]
    }
   ],
   "source": [
    "tokenizer = AutoTokenizer.from_pretrained(MODEL_NAME, use_fast=True)\n",
    "print(f\"Loaded tokenizer: {MODEL_NAME}  (vocab = {len(tokenizer)})\")"
   ]
  },
  {
   "cell_type": "code",
   "execution_count": 44,
   "id": "b4f2da84",
   "metadata": {},
   "outputs": [
    {
     "name": "stdout",
     "output_type": "stream",
     "text": [
      "Loaded 18317 records from final_results.json\n"
     ]
    }
   ],
   "source": [
    "with open(INPUT_PATH, \"r\", encoding=\"utf8\") as f:\n",
    "    data = json.load(f)\n",
    "print(f\"Loaded {len(data)} records from {INPUT_PATH}\")"
   ]
  },
  {
   "cell_type": "code",
   "execution_count": 45,
   "id": "a26438c8",
   "metadata": {},
   "outputs": [
    {
     "name": "stderr",
     "output_type": "stream",
     "text": [
      "Processing:   0%|          | 0/18317 [00:00<?, ?it/s]"
     ]
    },
    {
     "name": "stdout",
     "output_type": "stream",
     "text": [
      "Skipping idx=49 (not correct)\n",
      "Skipping idx=50 (not correct)\n",
      "No token match at idx=74, term='.4 liters * 1000 ml/liter'\n",
      "Skipping idx=86 (not correct)\n"
     ]
    },
    {
     "name": "stderr",
     "output_type": "stream",
     "text": [
      "Processing:   1%|          | 138/18317 [00:00<00:13, 1376.24it/s]"
     ]
    },
    {
     "name": "stdout",
     "output_type": "stream",
     "text": [
      "Skipping idx=187 (not correct)\n",
      "Skipping idx=189 (not correct)\n"
     ]
    },
    {
     "name": "stderr",
     "output_type": "stream",
     "text": [
      "Processing:   2%|▏         | 276/18317 [00:00<00:13, 1374.36it/s]"
     ]
    },
    {
     "name": "stdout",
     "output_type": "stream",
     "text": [
      "No token match at idx=295, term='.50-.25'\n"
     ]
    },
    {
     "name": "stderr",
     "output_type": "stream",
     "text": [
      "Processing:   3%|▎         | 544/18317 [00:00<00:13, 1290.02it/s]"
     ]
    },
    {
     "name": "stdout",
     "output_type": "stream",
     "text": [
      "Skipping idx=529 (not correct)\n"
     ]
    },
    {
     "name": "stderr",
     "output_type": "stream",
     "text": [
      "Processing:   4%|▎         | 679/18317 [00:00<00:13, 1310.52it/s]"
     ]
    },
    {
     "name": "stdout",
     "output_type": "stream",
     "text": [
      "No token match at idx=571, term='200(.60)'\n",
      "Skipping idx=615 (not correct)\n",
      "Skipping idx=808 (not correct)\n",
      "Skipping idx=809 (not correct)\n"
     ]
    },
    {
     "name": "stderr",
     "output_type": "stream",
     "text": [
      "Processing:   5%|▍         | 836/18317 [00:00<00:12, 1395.99it/s]"
     ]
    },
    {
     "name": "stdout",
     "output_type": "stream",
     "text": [
      "Skipping idx=828 (not correct)\n"
     ]
    },
    {
     "name": "stderr",
     "output_type": "stream",
     "text": [
      "Processing:   5%|▌         | 976/18317 [00:00<00:12, 1361.84it/s]"
     ]
    },
    {
     "name": "stdout",
     "output_type": "stream",
     "text": [
      "Skipping idx=888 (not correct)\n",
      "Skipping idx=1000 (not correct)\n",
      "Processed OK: 1000 items retained\n"
     ]
    },
    {
     "name": "stderr",
     "output_type": "stream",
     "text": [
      "Processing:   7%|▋         | 1264/18317 [00:01<00:14, 1187.38it/s]"
     ]
    },
    {
     "name": "stdout",
     "output_type": "stream",
     "text": [
      "Skipping idx=1234 (not correct)\n",
      "Skipping idx=1244 (not correct)\n",
      "No token match at idx=1266, term='.5*2'\n"
     ]
    },
    {
     "name": "stderr",
     "output_type": "stream",
     "text": [
      "Processing:   8%|▊         | 1418/18317 [00:01<00:13, 1280.02it/s]"
     ]
    },
    {
     "name": "stdout",
     "output_type": "stream",
     "text": [
      "No token match at idx=1394, term='3(98)'\n",
      "Skipping idx=1484 (not correct)\n",
      "Skipping idx=1507 (not correct)\n",
      "Skipping idx=1516 (not correct)\n"
     ]
    },
    {
     "name": "stderr",
     "output_type": "stream",
     "text": [
      "Processing:   8%|▊         | 1554/18317 [00:01<00:12, 1296.08it/s]"
     ]
    },
    {
     "name": "stdout",
     "output_type": "stream",
     "text": [
      "Skipping idx=1536 (not correct)\n",
      "Skipping idx=1556 (not correct)\n"
     ]
    },
    {
     "name": "stderr",
     "output_type": "stream",
     "text": [
      "Processing:   9%|▉         | 1689/18317 [00:01<00:13, 1247.33it/s]"
     ]
    },
    {
     "name": "stdout",
     "output_type": "stream",
     "text": [
      "Skipping idx=1670 (not correct)\n",
      "Skipping idx=1671 (not correct)\n"
     ]
    },
    {
     "name": "stderr",
     "output_type": "stream",
     "text": [
      "Processing:  11%|█▏        | 2095/18317 [00:01<00:13, 1218.99it/s]"
     ]
    },
    {
     "name": "stdout",
     "output_type": "stream",
     "text": [
      "Skipping idx=1980 (not correct)\n",
      "Processed OK: 2000 items retained\n",
      "No token match at idx=2043, term='.20*30'\n",
      "Skipping idx=2086 (not correct)\n",
      "No token match at idx=2101, term='4/(1/8)'\n",
      "No token match at idx=2111, term='.85*30'\n",
      "No token match at idx=2112, term='.45*30'\n",
      "Skipping idx=2158 (not correct)\n",
      "Skipping idx=2162 (not correct)\n",
      "Skipping idx=2166 (not correct)\n"
     ]
    },
    {
     "name": "stderr",
     "output_type": "stream",
     "text": [
      "Processing:  14%|█▍        | 2533/18317 [00:01<00:11, 1369.59it/s]"
     ]
    },
    {
     "name": "stdout",
     "output_type": "stream",
     "text": [
      "Skipping idx=2299 (not correct)\n",
      "Skipping idx=2364 (not correct)\n",
      "No token match at idx=2436, term='Caleb’s 7 gallons + Cynthia’s 8 gallons'\n",
      "Skipping idx=2535 (not correct)\n",
      "No token match at idx=2549, term='.5*2'\n"
     ]
    },
    {
     "name": "stderr",
     "output_type": "stream",
     "text": [
      "Processing:  16%|█▋        | 3004/18317 [00:02<00:10, 1476.89it/s]"
     ]
    },
    {
     "name": "stdout",
     "output_type": "stream",
     "text": [
      "Skipping idx=2737 (not correct)\n",
      "Skipping idx=2767 (not correct)\n",
      "Skipping idx=2822 (not correct)\n",
      "Skipping idx=2888 (not correct)\n",
      "Skipping idx=2905 (not correct)\n"
     ]
    },
    {
     "name": "stderr",
     "output_type": "stream",
     "text": [
      "Processing:  18%|█▊        | 3309/18317 [00:02<00:10, 1494.45it/s]"
     ]
    },
    {
     "name": "stdout",
     "output_type": "stream",
     "text": [
      "Processed OK: 3000 items retained\n",
      "Skipping idx=3062 (not correct)\n",
      "Skipping idx=3092 (not correct)\n",
      "Skipping idx=3093 (not correct)\n",
      "Skipping idx=3094 (not correct)\n",
      "Skipping idx=3096 (not correct)\n",
      "Skipping idx=3128 (not correct)\n",
      "Skipping idx=3158 (not correct)\n",
      "Skipping idx=3165 (not correct)\n",
      "No token match at idx=3332, term='.5*354,000'\n"
     ]
    },
    {
     "name": "stderr",
     "output_type": "stream",
     "text": [
      "Processing:  20%|█▉        | 3624/18317 [00:02<00:09, 1508.31it/s]"
     ]
    },
    {
     "name": "stdout",
     "output_type": "stream",
     "text": [
      "Skipping idx=3417 (not correct)\n",
      "No token match at idx=3445, term='14*50%'\n",
      "No token match at idx=3517, term='.10*150'\n",
      "Skipping idx=3560 (not correct)\n",
      "Skipping idx=3565 (not correct)\n",
      "Skipping idx=3717 (not correct)\n"
     ]
    },
    {
     "name": "stderr",
     "output_type": "stream",
     "text": [
      "Processing:  22%|██▏       | 3951/18317 [00:02<00:09, 1496.76it/s]"
     ]
    },
    {
     "name": "stdout",
     "output_type": "stream",
     "text": [
      "Skipping idx=3733 (not correct)\n",
      "Skipping idx=3774 (not correct)\n"
     ]
    },
    {
     "name": "stderr",
     "output_type": "stream",
     "text": [
      "Processing:  22%|██▏       | 4114/18317 [00:03<00:09, 1534.10it/s]"
     ]
    },
    {
     "name": "stdout",
     "output_type": "stream",
     "text": [
      "Processed OK: 4000 items retained\n",
      "No token match at idx=4067, term='.36*100'\n",
      "Skipping idx=4098 (not correct)\n",
      "Skipping idx=4135 (not correct)\n",
      "No token match at idx=4137, term='.50*5'\n",
      "Skipping idx=4163 (not correct)\n"
     ]
    },
    {
     "name": "stderr",
     "output_type": "stream",
     "text": [
      "Processing:  26%|██▌       | 4730/18317 [00:03<00:09, 1438.66it/s]"
     ]
    },
    {
     "name": "stdout",
     "output_type": "stream",
     "text": [
      "Skipping idx=4411 (not correct)\n",
      "Skipping idx=4539 (not correct)\n",
      "Skipping idx=4602 (not correct)\n",
      "Skipping idx=4619 (not correct)\n",
      "Skipping idx=4709 (not correct)\n"
     ]
    },
    {
     "name": "stderr",
     "output_type": "stream",
     "text": [
      "Processing:  28%|██▊       | 5040/18317 [00:03<00:08, 1484.48it/s]"
     ]
    },
    {
     "name": "stdout",
     "output_type": "stream",
     "text": [
      "Skipping idx=4769 (not correct)\n",
      "Skipping idx=4814 (not correct)\n",
      "Skipping idx=4884 (not correct)\n",
      "Skipping idx=4952 (not correct)\n",
      "Skipping idx=5052 (not correct)\n",
      "Processed OK: 5000 items retained\n"
     ]
    },
    {
     "name": "stderr",
     "output_type": "stream",
     "text": [
      "Processing:  29%|██▉       | 5357/18317 [00:03<00:08, 1535.15it/s]"
     ]
    },
    {
     "name": "stdout",
     "output_type": "stream",
     "text": [
      "No token match at idx=5117, term='.50*4'\n",
      "No token match at idx=5133, term='.30*80'\n",
      "No token match at idx=5153, term='40(.50)'\n",
      "Skipping idx=5291 (not correct)\n",
      "Skipping idx=5304 (not correct)\n",
      "No token match at idx=5332, term='.20*30'\n",
      "No token match at idx=5334, term='.50*36'\n",
      "Skipping idx=5389 (not correct)\n",
      "Skipping idx=5403 (not correct)\n"
     ]
    },
    {
     "name": "stderr",
     "output_type": "stream",
     "text": [
      "Processing:  31%|███       | 5671/18317 [00:04<00:08, 1523.41it/s]"
     ]
    },
    {
     "name": "stdout",
     "output_type": "stream",
     "text": [
      "No token match at idx=5499, term='.4 * 80'\n",
      "Skipping idx=5607 (not correct)\n",
      "Skipping idx=5608 (not correct)\n",
      "No token match at idx=5632, term='.45*20'\n",
      "Skipping idx=5659 (not correct)\n",
      "No token match at idx=5716, term='.20*120.00'\n",
      "Skipping idx=5759 (not correct)\n",
      "Skipping idx=5781 (not correct)\n",
      "Skipping idx=5784 (not correct)\n",
      "Skipping idx=5798 (not correct)\n",
      "No token match at idx=5807, term='.20*60'\n"
     ]
    },
    {
     "name": "stderr",
     "output_type": "stream",
     "text": [
      "Processing:  35%|███▍      | 6339/18317 [00:04<00:07, 1589.41it/s]"
     ]
    },
    {
     "name": "stdout",
     "output_type": "stream",
     "text": [
      "Processed OK: 6000 items retained\n",
      "Skipping idx=6284 (not correct)\n",
      "Skipping idx=6299 (not correct)\n",
      "No token match at idx=6307, term='3/(1/3)'\n",
      "No token match at idx=6325, term='* 2'\n"
     ]
    },
    {
     "name": "stderr",
     "output_type": "stream",
     "text": [
      "Processing:  36%|███▋      | 6661/18317 [00:04<00:07, 1594.83it/s]"
     ]
    },
    {
     "name": "stdout",
     "output_type": "stream",
     "text": [
      "Skipping idx=6457 (not correct)\n",
      "Skipping idx=6554 (not correct)\n",
      "Skipping idx=6584 (not correct)\n",
      "Skipping idx=6585 (not correct)\n",
      "No token match at idx=6607, term='.5*2220'\n",
      "No token match at idx=6614, term='8(5)'\n",
      "No token match at idx=6632, term='.5 hours * 60 minutes/hour'\n",
      "No token match at idx=6649, term='.25*24'\n",
      "Skipping idx=6740 (not correct)\n"
     ]
    },
    {
     "name": "stderr",
     "output_type": "stream",
     "text": [
      "Processing:  38%|███▊      | 6981/18317 [00:04<00:07, 1572.77it/s]"
     ]
    },
    {
     "name": "stdout",
     "output_type": "stream",
     "text": [
      "No token match at idx=6800, term='.10*180'\n",
      "Skipping idx=6882 (not correct)\n",
      "Skipping idx=7046 (not correct)\n",
      "No token match at idx=7082, term='.10*1200'\n",
      "Skipping idx=7104 (not correct)\n",
      "Processed OK: 7000 items retained\n"
     ]
    },
    {
     "name": "stderr",
     "output_type": "stream",
     "text": [
      "Processing:  40%|███▉      | 7305/18317 [00:05<00:06, 1583.95it/s]"
     ]
    },
    {
     "name": "stdout",
     "output_type": "stream",
     "text": [
      "Skipping idx=7138 (not correct)\n",
      "No token match at idx=7151, term='.5*60'\n",
      "No token match at idx=7189, term='.10*500'\n",
      "Skipping idx=7268 (not correct)\n",
      "Skipping idx=7278 (not correct)\n",
      "No token match at idx=7304, term='.20*525'\n",
      "Skipping idx=7365 (not correct)\n",
      "Skipping idx=7426 (not correct)\n"
     ]
    },
    {
     "name": "stderr",
     "output_type": "stream",
     "text": [
      "Processing:  43%|████▎     | 7787/18317 [00:05<00:06, 1581.57it/s]"
     ]
    },
    {
     "name": "stdout",
     "output_type": "stream",
     "text": [
      "Skipping idx=7599 (not correct)\n",
      "Skipping idx=7604 (not correct)\n",
      "Skipping idx=7722 (not correct)\n",
      "Skipping idx=7782 (not correct)\n"
     ]
    },
    {
     "name": "stderr",
     "output_type": "stream",
     "text": [
      "Processing:  44%|████▍     | 8104/18317 [00:05<00:06, 1507.43it/s]"
     ]
    },
    {
     "name": "stdout",
     "output_type": "stream",
     "text": [
      "No token match at idx=7959, term='.25*1352'\n",
      "Processed OK: 8000 items retained\n",
      "No token match at idx=8208, term='P + 3 + P + 6 + P + 9 + P + 12'\n",
      "No token match at idx=8209, term='P + 3 + P + 6 + P + 9 + P + 12'\n",
      "No token match at idx=8210, term='P + 9 + 3'\n",
      "Skipping idx=8214 (not correct)\n"
     ]
    },
    {
     "name": "stderr",
     "output_type": "stream",
     "text": [
      "Processing:  46%|████▌     | 8417/18317 [00:05<00:07, 1253.43it/s]"
     ]
    },
    {
     "name": "stdout",
     "output_type": "stream",
     "text": [
      "Skipping idx=8292 (not correct)\n",
      "Skipping idx=8341 (not correct)\n",
      "No token match at idx=8396, term='.5 minutes/flower * 56 flowers'\n",
      "Skipping idx=8493 (not correct)\n"
     ]
    },
    {
     "name": "stderr",
     "output_type": "stream",
     "text": [
      "Processing:  48%|████▊     | 8726/18317 [00:06<00:06, 1379.39it/s]"
     ]
    },
    {
     "name": "stdout",
     "output_type": "stream",
     "text": [
      "No token match at idx=8541, term='.5 hours * 60 minutes/hour'\n",
      "Skipping idx=8551 (not correct)\n",
      "No token match at idx=8602, term='40(.50)'\n",
      "Skipping idx=8676 (not correct)\n",
      "Skipping idx=8763 (not correct)\n",
      "Skipping idx=8842 (not correct)\n"
     ]
    },
    {
     "name": "stderr",
     "output_type": "stream",
     "text": [
      "Processing:  49%|████▉     | 9027/18317 [00:06<00:06, 1411.46it/s]"
     ]
    },
    {
     "name": "stdout",
     "output_type": "stream",
     "text": [
      "Skipping idx=8853 (not correct)\n",
      "No token match at idx=8893, term='¢25 x 3'\n",
      "No token match at idx=8894, term='¢75 x 2'\n",
      "No token match at idx=8895, term='¢75 + ¢150 + ¢50'\n",
      "No token match at idx=8896, term='¢275/¢25'\n",
      "Skipping idx=8904 (not correct)\n",
      "Skipping idx=8978 (not correct)\n",
      "Skipping idx=9089 (not correct)\n"
     ]
    },
    {
     "name": "stderr",
     "output_type": "stream",
     "text": [
      "Processing:  51%|█████     | 9319/18317 [00:06<00:06, 1426.05it/s]"
     ]
    },
    {
     "name": "stdout",
     "output_type": "stream",
     "text": [
      "Processed OK: 9000 items retained\n",
      "Skipping idx=9190 (not correct)\n",
      "Skipping idx=9294 (not correct)\n",
      "Skipping idx=9331 (not correct)\n",
      "Skipping idx=9345 (not correct)\n",
      "Skipping idx=9439 (not correct)\n"
     ]
    },
    {
     "name": "stderr",
     "output_type": "stream",
     "text": [
      "Processing:  53%|█████▎    | 9633/18317 [00:06<00:05, 1462.36it/s]"
     ]
    },
    {
     "name": "stdout",
     "output_type": "stream",
     "text": [
      "Skipping idx=9476 (not correct)\n"
     ]
    },
    {
     "name": "stderr",
     "output_type": "stream",
     "text": [
      "Processing:  54%|█████▍    | 9951/18317 [00:06<00:05, 1501.50it/s]"
     ]
    },
    {
     "name": "stdout",
     "output_type": "stream",
     "text": [
      "Skipping idx=9799 (not correct)\n",
      "Skipping idx=9805 (not correct)\n",
      "Skipping idx=9981 (not correct)\n",
      "Skipping idx=10059 (not correct)\n",
      "Skipping idx=10064 (not correct)\n"
     ]
    },
    {
     "name": "stderr",
     "output_type": "stream",
     "text": [
      "Processing:  57%|█████▋    | 10421/18317 [00:07<00:05, 1520.15it/s]"
     ]
    },
    {
     "name": "stdout",
     "output_type": "stream",
     "text": [
      "Skipping idx=10134 (not correct)\n",
      "Skipping idx=10135 (not correct)\n",
      "Processed OK: 10000 items retained\n",
      "Skipping idx=10167 (not correct)\n",
      "No token match at idx=10170, term='.2*1000000'\n",
      "Skipping idx=10294 (not correct)\n",
      "Skipping idx=10372 (not correct)\n",
      "Skipping idx=10426 (not correct)\n"
     ]
    },
    {
     "name": "stderr",
     "output_type": "stream",
     "text": [
      "Processing:  59%|█████▊    | 10722/18317 [00:07<00:05, 1440.61it/s]"
     ]
    },
    {
     "name": "stdout",
     "output_type": "stream",
     "text": [
      "Skipping idx=10498 (not correct)\n",
      "No token match at idx=10516, term='.20*60'\n",
      "Skipping idx=10543 (not correct)\n",
      "Skipping idx=10640 (not correct)\n",
      "Skipping idx=10641 (not correct)\n"
     ]
    },
    {
     "name": "stderr",
     "output_type": "stream",
     "text": [
      "Processing:  60%|██████    | 11009/18317 [00:07<00:05, 1360.81it/s]"
     ]
    },
    {
     "name": "stdout",
     "output_type": "stream",
     "text": [
      "Skipping idx=10838 (not correct)\n",
      "Skipping idx=10950 (not correct)\n",
      "Skipping idx=10994 (not correct)\n",
      "Skipping idx=11053 (not correct)\n",
      "Skipping idx=11055 (not correct)\n"
     ]
    },
    {
     "name": "stderr",
     "output_type": "stream",
     "text": [
      "Processing:  62%|██████▏   | 11296/18317 [00:07<00:05, 1385.93it/s]"
     ]
    },
    {
     "name": "stdout",
     "output_type": "stream",
     "text": [
      "Skipping idx=11127 (not correct)\n",
      "Skipping idx=11170 (not correct)\n",
      "Processed OK: 11000 items retained\n",
      "Skipping idx=11303 (not correct)\n"
     ]
    },
    {
     "name": "stderr",
     "output_type": "stream",
     "text": [
      "Processing:  64%|██████▍   | 11748/18317 [00:08<00:04, 1448.71it/s]"
     ]
    },
    {
     "name": "stdout",
     "output_type": "stream",
     "text": [
      "Skipping idx=11584 (not correct)\n",
      "Skipping idx=11649 (not correct)\n",
      "Skipping idx=11668 (not correct)\n",
      "No token match at idx=11672, term='6/(1/4)'\n",
      "Skipping idx=11713 (not correct)\n",
      "Skipping idx=11734 (not correct)\n",
      "Skipping idx=11795 (not correct)\n",
      "Skipping idx=11804 (not correct)\n",
      "Skipping idx=11869 (not correct)\n",
      "Skipping idx=11886 (not correct)\n",
      "Skipping idx=11887 (not correct)\n"
     ]
    },
    {
     "name": "stderr",
     "output_type": "stream",
     "text": [
      "Processing:  66%|██████▌   | 12052/18317 [00:08<00:05, 1212.80it/s]"
     ]
    },
    {
     "name": "stdout",
     "output_type": "stream",
     "text": [
      "Skipping idx=11890 (not correct)\n",
      "Skipping idx=11992 (not correct)\n"
     ]
    },
    {
     "name": "stderr",
     "output_type": "stream",
     "text": [
      "Processing:  67%|██████▋   | 12358/18317 [00:08<00:04, 1361.06it/s]"
     ]
    },
    {
     "name": "stdout",
     "output_type": "stream",
     "text": [
      "No token match at idx=12150, term='.10*20'\n",
      "Processed OK: 12000 items retained\n",
      "No token match at idx=12207, term='.25*344'\n",
      "No token match at idx=12335, term='.50*100'\n",
      "Skipping idx=12457 (not correct)\n"
     ]
    },
    {
     "name": "stderr",
     "output_type": "stream",
     "text": [
      "Processing:  69%|██████▉   | 12667/18317 [00:08<00:03, 1437.99it/s]"
     ]
    },
    {
     "name": "stdout",
     "output_type": "stream",
     "text": [
      "Skipping idx=12498 (not correct)\n",
      "Skipping idx=12500 (not correct)\n",
      "No token match at idx=12505, term='.25*32'\n",
      "Skipping idx=12507 (not correct)\n",
      "Skipping idx=12611 (not correct)\n",
      "No token match at idx=12686, term='6/(1/3)'\n",
      "No token match at idx=12751, term='.5*4'\n",
      "Skipping idx=12790 (not correct)\n",
      "Skipping idx=12813 (not correct)\n",
      "No token match at idx=12815, term='.10 x 1980'\n"
     ]
    },
    {
     "name": "stderr",
     "output_type": "stream",
     "text": [
      "Processing:  72%|███████▏  | 13156/18317 [00:09<00:03, 1522.70it/s]"
     ]
    },
    {
     "name": "stdout",
     "output_type": "stream",
     "text": [
      "No token match at idx=12974, term='.20*95'\n",
      "Skipping idx=13042 (not correct)\n",
      "Skipping idx=13067 (not correct)\n",
      "No token match at idx=13100, term='.25*1120'\n",
      "Skipping idx=13104 (not correct)\n",
      "Processed OK: 13000 items retained\n",
      "No token match at idx=13265, term='.30*50'\n",
      "Skipping idx=13291 (not correct)\n"
     ]
    },
    {
     "name": "stderr",
     "output_type": "stream",
     "text": [
      "Processing:  74%|███████▍  | 13627/18317 [00:09<00:03, 1537.00it/s]"
     ]
    },
    {
     "name": "stdout",
     "output_type": "stream",
     "text": [
      "No token match at idx=13419, term='.10*1700'\n",
      "Skipping idx=13598 (not correct)\n",
      "Skipping idx=13612 (not correct)\n",
      "Skipping idx=13636 (not correct)\n",
      "Skipping idx=13648 (not correct)\n",
      "No token match at idx=13651, term='.20*40'\n"
     ]
    },
    {
     "name": "stderr",
     "output_type": "stream",
     "text": [
      "Processing:  77%|███████▋  | 14114/18317 [00:09<00:02, 1559.91it/s]"
     ]
    },
    {
     "name": "stdout",
     "output_type": "stream",
     "text": [
      "No token match at idx=13879, term='.15*2000'\n",
      "Skipping idx=13921 (not correct)\n",
      "Skipping idx=13978 (not correct)\n",
      "No token match at idx=14078, term='.25*3='\n",
      "No token match at idx=14079, term='.75*14'\n",
      "No token match at idx=14080, term='.5*2'\n",
      "No token match at idx=14082, term='.5+10.5+14'\n",
      "Skipping idx=14117 (not correct)\n",
      "Skipping idx=14159 (not correct)\n",
      "Skipping idx=14183 (not correct)\n"
     ]
    },
    {
     "name": "stderr",
     "output_type": "stream",
     "text": [
      "Processing:  79%|███████▉  | 14428/18317 [00:10<00:02, 1540.89it/s]"
     ]
    },
    {
     "name": "stdout",
     "output_type": "stream",
     "text": [
      "Processed OK: 14000 items retained\n",
      "Skipping idx=14267 (not correct)\n",
      "No token match at idx=14286, term='.20*20'\n",
      "No token match at idx=14288, term='.10*50'\n",
      "Skipping idx=14322 (not correct)\n",
      "Skipping idx=14380 (not correct)\n",
      "Skipping idx=14403 (not correct)\n",
      "No token match at idx=14466, term='.25 hours * 28 miles per hour'\n",
      "No token match at idx=14467, term='.25 hours * 60 miles per hour'\n",
      "Skipping idx=14482 (not correct)\n"
     ]
    },
    {
     "name": "stderr",
     "output_type": "stream",
     "text": [
      "Processing:  80%|████████  | 14733/18317 [00:10<00:02, 1441.95it/s]"
     ]
    },
    {
     "name": "stdout",
     "output_type": "stream",
     "text": [
      "No token match at idx=14570, term='.20*500'\n",
      "No token match at idx=14573, term='.30*500'\n",
      "Skipping idx=14673 (not correct)\n",
      "Skipping idx=14777 (not correct)\n",
      "Skipping idx=14860 (not correct)\n"
     ]
    },
    {
     "name": "stderr",
     "output_type": "stream",
     "text": [
      "Processing:  83%|████████▎ | 15232/18317 [00:10<00:01, 1546.71it/s]"
     ]
    },
    {
     "name": "stdout",
     "output_type": "stream",
     "text": [
      "Skipping idx=14970 (not correct)\n",
      "Skipping idx=14999 (not correct)\n",
      "Skipping idx=15020 (not correct)\n",
      "Skipping idx=15076 (not correct)\n",
      "No token match at idx=15118, term='.25*16'\n",
      "No token match at idx=15120, term='.50*12'\n",
      "Skipping idx=15130 (not correct)\n",
      "Skipping idx=15164 (not correct)\n",
      "Skipping idx=15211 (not correct)\n",
      "No token match at idx=15230, term='2*2.5'\n",
      "Processed OK: 15000 items retained\n"
     ]
    },
    {
     "name": "stderr",
     "output_type": "stream",
     "text": [
      "Processing:  85%|████████▍ | 15537/18317 [00:10<00:01, 1446.36it/s]"
     ]
    },
    {
     "name": "stdout",
     "output_type": "stream",
     "text": [
      "Skipping idx=15321 (not correct)\n",
      "Skipping idx=15373 (not correct)\n",
      "No token match at idx=15385, term='.70*200'\n",
      "Skipping idx=15564 (not correct)\n"
     ]
    },
    {
     "name": "stderr",
     "output_type": "stream",
     "text": [
      "Processing:  86%|████████▌ | 15683/18317 [00:10<00:01, 1400.46it/s]"
     ]
    },
    {
     "name": "stdout",
     "output_type": "stream",
     "text": [
      "Skipping idx=15597 (not correct)\n",
      "Skipping idx=15681 (not correct)\n",
      "Skipping idx=15683 (not correct)\n",
      "Skipping idx=15685 (not correct)\n",
      "Skipping idx=15736 (not correct)\n",
      "Skipping idx=15789 (not correct)\n"
     ]
    },
    {
     "name": "stderr",
     "output_type": "stream",
     "text": [
      "Processing:  89%|████████▉ | 16282/18317 [00:11<00:01, 1325.93it/s]"
     ]
    },
    {
     "name": "stdout",
     "output_type": "stream",
     "text": [
      "Skipping idx=15973 (not correct)\n",
      "Skipping idx=15990 (not correct)\n",
      "Skipping idx=16069 (not correct)\n",
      "Skipping idx=16072 (not correct)\n",
      "No token match at idx=16133, term='.20*50'\n",
      "No token match at idx=16134, term='.10*50'\n",
      "Processed OK: 16000 items retained\n",
      "Skipping idx=16291 (not correct)\n"
     ]
    },
    {
     "name": "stderr",
     "output_type": "stream",
     "text": [
      "Processing:  91%|█████████▏| 16724/18317 [00:11<00:01, 1373.31it/s]"
     ]
    },
    {
     "name": "stdout",
     "output_type": "stream",
     "text": [
      "No token match at idx=16509, term='.2*40000'\n",
      "Skipping idx=16546 (not correct)\n",
      "Skipping idx=16547 (not correct)\n",
      "Skipping idx=16564 (not correct)\n",
      "Skipping idx=16579 (not correct)\n",
      "Skipping idx=16612 (not correct)\n",
      "Skipping idx=16613 (not correct)\n",
      "No token match at idx=16635, term='.30*50'\n",
      "No token match at idx=16646, term='( 0.1 ) * 12'\n",
      "Skipping idx=16650 (not correct)\n",
      "Skipping idx=16652 (not correct)\n",
      "Skipping idx=16653 (not correct)\n",
      "Skipping idx=16654 (not correct)\n",
      "Skipping idx=16682 (not correct)\n",
      "Skipping idx=16707 (not correct)\n"
     ]
    },
    {
     "name": "stderr",
     "output_type": "stream",
     "text": [
      "Processing:  94%|█████████▍| 17186/18317 [00:12<00:00, 1476.41it/s]"
     ]
    },
    {
     "name": "stdout",
     "output_type": "stream",
     "text": [
      "Skipping idx=17002 (not correct)\n",
      "Skipping idx=17079 (not correct)\n",
      "Skipping idx=17220 (not correct)\n",
      "No token match at idx=17239, term='70(.20)'\n",
      "No token match at idx=17243, term='.40*100'\n",
      "No token match at idx=17244, term='.20*40'\n",
      "No token match at idx=17250, term='.10*30'\n",
      "Processed OK: 17000 items retained\n"
     ]
    },
    {
     "name": "stderr",
     "output_type": "stream",
     "text": [
      "Processing:  96%|█████████▋| 17643/18317 [00:12<00:00, 1490.13it/s]"
     ]
    },
    {
     "name": "stdout",
     "output_type": "stream",
     "text": [
      "No token match at idx=17402, term='8(100)'\n",
      "Skipping idx=17409 (not correct)\n",
      "Skipping idx=17447 (not correct)\n",
      "Skipping idx=17557 (not correct)\n",
      "Skipping idx=17597 (not correct)\n",
      "Skipping idx=17603 (not correct)\n",
      "No token match at idx=17616, term='.75 * 4'\n",
      "Skipping idx=17689 (not correct)\n",
      "No token match at idx=17712, term='.20*350'\n"
     ]
    },
    {
     "name": "stderr",
     "output_type": "stream",
     "text": [
      "Processing:  99%|█████████▉| 18092/18317 [00:12<00:00, 1469.64it/s]"
     ]
    },
    {
     "name": "stdout",
     "output_type": "stream",
     "text": [
      "Skipping idx=17838 (not correct)\n",
      "No token match at idx=17851, term='(4+2)+3'\n",
      "Skipping idx=17872 (not correct)\n",
      "Skipping idx=18064 (not correct)\n"
     ]
    },
    {
     "name": "stderr",
     "output_type": "stream",
     "text": [
      "Processing: 100%|██████████| 18317/18317 [00:12<00:00, 1428.63it/s]"
     ]
    },
    {
     "name": "stdout",
     "output_type": "stream",
     "text": [
      "Skipping idx=18240 (not correct)\n",
      "Skipping idx=18250 (not correct)\n",
      "Skipping idx=18251 (not correct)\n",
      "Skipping idx=18289 (not correct)\n",
      "Processed OK: 18000 items retained\n",
      "Skipping idx=18315 (not correct)\n",
      "Finished. Retained 18005 / 18317 items in total.\n"
     ]
    },
    {
     "name": "stderr",
     "output_type": "stream",
     "text": [
      "\n"
     ]
    }
   ],
   "source": [
    "def find_token_start(big_ids, sub_ids):\n",
    "    \"\"\"Return first index where sub_ids appears in big_ids, else -1.\"\"\"\n",
    "    if not sub_ids: \n",
    "        return -1\n",
    "    sub_len = len(sub_ids)\n",
    "    for i in range(len(big_ids) - sub_len + 1):\n",
    "        if big_ids[i : i + sub_len] == sub_ids:\n",
    "            return i\n",
    "    return -1\n",
    "\n",
    "results = []\n",
    "for idx, elem in enumerate(tqdm(data, desc=\"Processing\")):\n",
    "    if not elem[\"is_correct\"]:\n",
    "        print(f\"Skipping idx={idx} (not correct)\")\n",
    "        continue\n",
    "\n",
    "    src = elem[\"source_text\"].replace(\"$\", \"\")\n",
    "    query = elem[\"extracted_search_term\"].replace(\"$\", \"\")\n",
    "\n",
    "    ids_full = tokenizer.encode(src, add_special_tokens=False)\n",
    "    ids_sub = tokenizer.encode(query, add_special_tokens=False)\n",
    "\n",
    "    start_idx = find_token_start(ids_full, ids_sub)\n",
    "    if start_idx == -1:\n",
    "        print(f\"No token match at idx={idx}, term='{query}'\")\n",
    "        continue         \n",
    "\n",
    "    out_elem = dict(elem)        \n",
    "\n",
    "    out_elem[\"source_text\"] = src\n",
    "    out_elem[\"extracted_search_term\"] = query\n",
    "\n",
    "    out_elem[\"start_index\"] = start_idx\n",
    "    out_elem[\"end_index\"] = start_idx + len(ids_sub) - 1\n",
    "    out_elem[\"decoded_value\"] = tokenizer.decode(ids_full[start_idx:out_elem[\"end_index\"] + 1], skip_special_tokens=True)\n",
    "\n",
    "    out_elem[\"tokens\"] = ids_full\n",
    "    results.append(out_elem)\n",
    "\n",
    "    if (len(results) % LOG_EVERY_N) == 0:\n",
    "        print(f\"Processed OK: {len(results)} items retained\")\n",
    "    \n",
    "    '''if idx == 32:\n",
    "        break'''\n",
    "\n",
    "print(f\"Finished. Retained {len(results)} / {len(data)} items in total.\")"
   ]
  },
  {
   "cell_type": "code",
   "execution_count": 46,
   "id": "28867df1",
   "metadata": {},
   "outputs": [
    {
     "name": "stdout",
     "output_type": "stream",
     "text": [
      "Output written ➜  final_results_with_token_index.json\n"
     ]
    }
   ],
   "source": [
    "with open(OUTPUT_PATH, \"w\", encoding=\"utf8\") as f:\n",
    "    json.dump(results, f, ensure_ascii=False, indent=2)\n",
    "\n",
    "print(f\"Output written ➜  {OUTPUT_PATH}\")"
   ]
  }
 ],
 "metadata": {
  "kernelspec": {
   "display_name": "Python 3",
   "language": "python",
   "name": "python3"
  },
  "language_info": {
   "codemirror_mode": {
    "name": "ipython",
    "version": 3
   },
   "file_extension": ".py",
   "mimetype": "text/x-python",
   "name": "python",
   "nbconvert_exporter": "python",
   "pygments_lexer": "ipython3",
   "version": "3.9.23"
  }
 },
 "nbformat": 4,
 "nbformat_minor": 5
}
